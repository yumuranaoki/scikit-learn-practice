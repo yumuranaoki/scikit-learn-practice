{
 "cells": [
  {
   "cell_type": "code",
   "execution_count": 13,
   "metadata": {},
   "outputs": [],
   "source": [
    "import mglearn\n",
    "from sklearn.tree import DecisionTreeClassifier\n",
    "from sklearn.datasets import load_breast_cancer\n",
    "from sklearn.model_selection import train_test_split\n",
    "import matplotlib.pyplot as plt\n",
    "import numpy as np"
   ]
  },
  {
   "cell_type": "code",
   "execution_count": 4,
   "metadata": {},
   "outputs": [
    {
     "data": {
      "text/plain": [
       "DecisionTreeClassifier(class_weight=None, criterion='gini', max_depth=None,\n",
       "            max_features=None, max_leaf_nodes=None,\n",
       "            min_impurity_decrease=0.0, min_impurity_split=None,\n",
       "            min_samples_leaf=1, min_samples_split=2,\n",
       "            min_weight_fraction_leaf=0.0, presort=False, random_state=0,\n",
       "            splitter='best')"
      ]
     },
     "execution_count": 4,
     "metadata": {},
     "output_type": "execute_result"
    }
   ],
   "source": [
    "cancer = load_breast_cancer()\n",
    "X_train, X_test, y_train, y_test = train_test_split(cancer.data, cancer.target, stratify=cancer.target, random_state=42)\n",
    "tree = DecisionTreeClassifier(random_state=0)\n",
    "tree.fit(X_train, y_train)"
   ]
  },
  {
   "cell_type": "code",
   "execution_count": 5,
   "metadata": {},
   "outputs": [
    {
     "name": "stdout",
     "output_type": "stream",
     "text": [
      "training set score: 1.0\n",
      "training set score: 0.9370629370629371\n"
     ]
    }
   ],
   "source": [
    "print(\"training set score: {}\".format(tree.score(X_train, y_train)))\n",
    "print(\"training set score: {}\".format(tree.score(X_test, y_test)))"
   ]
  },
  {
   "cell_type": "code",
   "execution_count": 7,
   "metadata": {},
   "outputs": [
    {
     "data": {
      "text/plain": [
       "DecisionTreeClassifier(class_weight=None, criterion='gini', max_depth=4,\n",
       "            max_features=None, max_leaf_nodes=None,\n",
       "            min_impurity_decrease=0.0, min_impurity_split=None,\n",
       "            min_samples_leaf=1, min_samples_split=2,\n",
       "            min_weight_fraction_leaf=0.0, presort=False, random_state=0,\n",
       "            splitter='best')"
      ]
     },
     "execution_count": 7,
     "metadata": {},
     "output_type": "execute_result"
    }
   ],
   "source": [
    "# 事前枝刈り\n",
    "tree = DecisionTreeClassifier(max_depth=4, random_state=0)\n",
    "tree.fit(X_train, y_train)"
   ]
  },
  {
   "cell_type": "code",
   "execution_count": 8,
   "metadata": {},
   "outputs": [
    {
     "name": "stdout",
     "output_type": "stream",
     "text": [
      "training set score: 0.9882629107981221\n",
      "test set score: 0.951048951048951\n"
     ]
    }
   ],
   "source": [
    "print(\"training set score: {}\".format(tree.score(X_train, y_train)))\n",
    "print(\"test set score: {}\".format(tree.score(X_test, y_test)))"
   ]
  },
  {
   "cell_type": "code",
   "execution_count": 15,
   "metadata": {},
   "outputs": [
    {
     "data": {
      "text/plain": [
       "([<matplotlib.axis.YTick at 0x117b19978>,\n",
       "  <matplotlib.axis.YTick at 0x117b191d0>,\n",
       "  <matplotlib.axis.YTick at 0x118a412b0>,\n",
       "  <matplotlib.axis.YTick at 0x11af35ef0>,\n",
       "  <matplotlib.axis.YTick at 0x11af3d400>,\n",
       "  <matplotlib.axis.YTick at 0x11af3d8d0>,\n",
       "  <matplotlib.axis.YTick at 0x11af3dda0>,\n",
       "  <matplotlib.axis.YTick at 0x11af422e8>,\n",
       "  <matplotlib.axis.YTick at 0x11af427f0>,\n",
       "  <matplotlib.axis.YTick at 0x11af42cf8>,\n",
       "  <matplotlib.axis.YTick at 0x11af42898>,\n",
       "  <matplotlib.axis.YTick at 0x11af3dc18>,\n",
       "  <matplotlib.axis.YTick at 0x11af47128>,\n",
       "  <matplotlib.axis.YTick at 0x11af47828>,\n",
       "  <matplotlib.axis.YTick at 0x11af47d30>,\n",
       "  <matplotlib.axis.YTick at 0x11af4b278>,\n",
       "  <matplotlib.axis.YTick at 0x11af4b780>,\n",
       "  <matplotlib.axis.YTick at 0x11af4bc88>,\n",
       "  <matplotlib.axis.YTick at 0x11af501d0>,\n",
       "  <matplotlib.axis.YTick at 0x11af506d8>,\n",
       "  <matplotlib.axis.YTick at 0x11af4b828>,\n",
       "  <matplotlib.axis.YTick at 0x11af474e0>,\n",
       "  <matplotlib.axis.YTick at 0x11af50198>,\n",
       "  <matplotlib.axis.YTick at 0x11af50f28>,\n",
       "  <matplotlib.axis.YTick at 0x11af57470>,\n",
       "  <matplotlib.axis.YTick at 0x11af57978>,\n",
       "  <matplotlib.axis.YTick at 0x11af57e80>,\n",
       "  <matplotlib.axis.YTick at 0x11af5f3c8>,\n",
       "  <matplotlib.axis.YTick at 0x11af5f8d0>,\n",
       "  <matplotlib.axis.YTick at 0x11af5fdd8>],\n",
       " <a list of 30 Text yticklabel objects>)"
      ]
     },
     "execution_count": 15,
     "metadata": {},
     "output_type": "execute_result"
    },
    {
     "data": {
      "image/png": "[encoded data removed]",
      "text/plain": [
       "<Figure size 432x288 with 1 Axes>"
      ]
     },
     "metadata": {
      "needs_background": "light"
     },
     "output_type": "display_data"
    }
   ],
   "source": [
    "# 特徴量の重要性の可視化\n",
    "n_features = cancer.data.shape[1]\n",
    "plt.barh(range(n_features), tree.feature_importances_, align=\"center\")\n",
    "plt.yticks(np.arange(n_features), cancer.feature_names)"
   ]
  },
  {
   "cell_type": "code",
   "execution_count": null,
   "metadata": {},
   "outputs": [],
   "source": []
  }
 ],
 "metadata": {
  "kernelspec": {
   "display_name": "Python 3",
   "language": "python",
   "name": "python3"
  },
  "language_info": {
   "codemirror_mode": {
    "name": "ipython",
    "version": 3
   },
   "file_extension": ".py",
   "mimetype": "text/x-python",
   "name": "python",
   "nbconvert_exporter": "python",
   "pygments_lexer": "ipython3",
   "version": "3.6.3"
  }
 },
 "nbformat": 4,
 "nbformat_minor": 2
}
